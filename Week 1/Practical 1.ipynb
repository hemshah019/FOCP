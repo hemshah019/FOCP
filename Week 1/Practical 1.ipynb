{
 "cells": [
  {
   "cell_type": "code",
   "execution_count": 4,
   "id": "c9c8adb7",
   "metadata": {},
   "outputs": [],
   "source": [
    "#Task 1"
   ]
  },
  {
   "cell_type": "code",
   "execution_count": 8,
   "id": "b654ffd8",
   "metadata": {},
   "outputs": [
    {
     "name": "stdout",
     "output_type": "stream",
     "text": [
      "Hello My Name is Hem Bikram Sah.\n",
      "I am from BSc (hons) computing l4.\n",
      "Hope U all doing well in your life.\n"
     ]
    }
   ],
   "source": [
    "print(\"Hello My Name is Hem Bikram Sah.\")\n",
    "print(\"I am from BSc (hons) computing l4.\")\n",
    "print(\"Hope U all doing well in your life.\")"
   ]
  },
  {
   "cell_type": "code",
   "execution_count": null,
   "id": "bfe3384d",
   "metadata": {},
   "outputs": [],
   "source": [
    "#Task 2"
   ]
  },
  {
   "cell_type": "code",
   "execution_count": 10,
   "id": "5bd09828",
   "metadata": {},
   "outputs": [
    {
     "name": "stdout",
     "output_type": "stream",
     "text": [
      "\n",
      "Welcome to Python 3.9's help utility!\n",
      "\n",
      "If this is your first time using Python, you should definitely check out\n",
      "the tutorial on the Internet at https://docs.python.org/3.9/tutorial/.\n",
      "\n",
      "Enter the name of any module, keyword, or topic to get help on writing\n",
      "Python programs and using Python modules.  To quit this help utility and\n",
      "return to the interpreter, just type \"quit\".\n",
      "\n",
      "To get a list of available modules, keywords, symbols, or topics, type\n",
      "\"modules\", \"keywords\", \"symbols\", or \"topics\".  Each module also comes\n",
      "with a one-line summary of what it does; to list the modules whose name\n",
      "or summary contain a given string such as \"spam\", type \"modules spam\".\n",
      "\n",
      "help> keywords\n",
      "\n",
      "Here is a list of the Python keywords.  Enter any keyword to get more help.\n",
      "\n",
      "False               break               for                 not\n",
      "None                class               from                or\n",
      "True                continue            global              pass\n",
      "__peg_parser__      def                 if                  raise\n",
      "and                 del                 import              return\n",
      "as                  elif                in                  try\n",
      "assert              else                is                  while\n",
      "async               except              lambda              with\n",
      "await               finally             nonlocal            yield\n",
      "\n",
      "help> quit\n",
      "\n",
      "You are now leaving help and returning to the Python interpreter.\n",
      "If you want to ask for help on a particular object directly from the\n",
      "interpreter, you can type \"help(object)\".  Executing \"help('string')\"\n",
      "has the same effect as typing a particular string at the help> prompt.\n"
     ]
    }
   ],
   "source": [
    "help()"
   ]
  },
  {
   "cell_type": "code",
   "execution_count": 11,
   "id": "cbd94808",
   "metadata": {},
   "outputs": [],
   "source": [
    "#Task 3"
   ]
  },
  {
   "cell_type": "code",
   "execution_count": 12,
   "id": "1cc2c837",
   "metadata": {},
   "outputs": [],
   "source": [
    "quit()"
   ]
  },
  {
   "cell_type": "code",
   "execution_count": 1,
   "id": "0fa3a312",
   "metadata": {},
   "outputs": [],
   "source": [
    "#Task 4"
   ]
  },
  {
   "cell_type": "code",
   "execution_count": 2,
   "id": "a02f06fe",
   "metadata": {},
   "outputs": [
    {
     "data": {
      "text/plain": [
       "65"
      ]
     },
     "execution_count": 2,
     "metadata": {},
     "output_type": "execute_result"
    }
   ],
   "source": [
    "45 + 20"
   ]
  },
  {
   "cell_type": "code",
   "execution_count": 3,
   "id": "e6649e20",
   "metadata": {},
   "outputs": [
    {
     "data": {
      "text/plain": [
       "15"
      ]
     },
     "execution_count": 3,
     "metadata": {},
     "output_type": "execute_result"
    }
   ],
   "source": [
    "10 + 20 - 15"
   ]
  },
  {
   "cell_type": "code",
   "execution_count": 4,
   "id": "2c9a220c",
   "metadata": {},
   "outputs": [
    {
     "data": {
      "text/plain": [
       "50"
      ]
     },
     "execution_count": 4,
     "metadata": {},
     "output_type": "execute_result"
    }
   ],
   "source": [
    "10 * 5"
   ]
  },
  {
   "cell_type": "code",
   "execution_count": 5,
   "id": "e72daba6",
   "metadata": {},
   "outputs": [
    {
     "data": {
      "text/plain": [
       "3.0303030303030303"
      ]
     },
     "execution_count": 5,
     "metadata": {},
     "output_type": "execute_result"
    }
   ],
   "source": [
    "100 / 33"
   ]
  },
  {
   "cell_type": "code",
   "execution_count": 6,
   "id": "aa2700d6",
   "metadata": {},
   "outputs": [
    {
     "data": {
      "text/plain": [
       "3"
      ]
     },
     "execution_count": 6,
     "metadata": {},
     "output_type": "execute_result"
    }
   ],
   "source": [
    "100 // 33"
   ]
  },
  {
   "cell_type": "code",
   "execution_count": 7,
   "id": "77509a34",
   "metadata": {},
   "outputs": [
    {
     "data": {
      "text/plain": [
       "100"
      ]
     },
     "execution_count": 7,
     "metadata": {},
     "output_type": "execute_result"
    }
   ],
   "source": [
    "10 ** 2"
   ]
  },
  {
   "cell_type": "code",
   "execution_count": 8,
   "id": "96ea50be",
   "metadata": {},
   "outputs": [
    {
     "data": {
      "text/plain": [
       "1"
      ]
     },
     "execution_count": 8,
     "metadata": {},
     "output_type": "execute_result"
    }
   ],
   "source": [
    "10 % 3"
   ]
  },
  {
   "cell_type": "code",
   "execution_count": 9,
   "id": "7625e7e1",
   "metadata": {},
   "outputs": [],
   "source": [
    "#Task 5"
   ]
  },
  {
   "cell_type": "code",
   "execution_count": 10,
   "id": "6e3887fb",
   "metadata": {},
   "outputs": [
    {
     "data": {
      "text/plain": [
       "20"
      ]
     },
     "execution_count": 10,
     "metadata": {},
     "output_type": "execute_result"
    }
   ],
   "source": [
    "10 + 5 * 2"
   ]
  },
  {
   "cell_type": "code",
   "execution_count": 11,
   "id": "63f152c0",
   "metadata": {},
   "outputs": [
    {
     "data": {
      "text/plain": [
       "-35"
      ]
     },
     "execution_count": 11,
     "metadata": {},
     "output_type": "execute_result"
    }
   ],
   "source": [
    "10 - 5 * 10 + 5"
   ]
  },
  {
   "cell_type": "code",
   "execution_count": 12,
   "id": "04454a82",
   "metadata": {},
   "outputs": [
    {
     "data": {
      "text/plain": [
       "2500"
      ]
     },
     "execution_count": 12,
     "metadata": {},
     "output_type": "execute_result"
    }
   ],
   "source": [
    "(5 * 10) ** 2"
   ]
  },
  {
   "cell_type": "code",
   "execution_count": 13,
   "id": "0ad9fc70",
   "metadata": {},
   "outputs": [],
   "source": [
    "#Task 6"
   ]
  },
  {
   "cell_type": "code",
   "execution_count": 14,
   "id": "29d6ef5f",
   "metadata": {},
   "outputs": [
    {
     "data": {
      "text/plain": [
       "25"
      ]
     },
     "execution_count": 14,
     "metadata": {},
     "output_type": "execute_result"
    }
   ],
   "source": [
    "12 + (5 * 2 + 3)"
   ]
  },
  {
   "cell_type": "code",
   "execution_count": 15,
   "id": "71c637ba",
   "metadata": {},
   "outputs": [
    {
     "data": {
      "text/plain": [
       "37"
      ]
     },
     "execution_count": 15,
     "metadata": {},
     "output_type": "execute_result"
    }
   ],
   "source": [
    "12 + (5 * (2 + 3))"
   ]
  },
  {
   "cell_type": "code",
   "execution_count": 16,
   "id": "858218ba",
   "metadata": {},
   "outputs": [],
   "source": [
    "#Task 7"
   ]
  },
  {
   "cell_type": "code",
   "execution_count": 18,
   "id": "9c532d1b",
   "metadata": {},
   "outputs": [],
   "source": [
    "# Source code  : is a set of instructions/commands and statements which is written by a programmer by using a computer\n",
    "#               programming language.\n",
    "            \n",
    "# Machine code : It is read by the computer's central processing unit (CPU), is composed of digital binary numbers and looks like \n",
    "#                a very long sequence of zeros and ones.\n",
    "            \n",
    "# Interpreter  : Interpreter translates just one statement of the program at a time into machine code.\n",
    "        \n",
    "# Compiler     : Compiler scans the entire program and translates the whole of it into machine code at once.\n",
    "        \n",
    "# 2GL, 3GL,4GL : 2GL mean Removes the need to program with numbers and introduces simple mnemonics that are mapped directly into\n",
    "#                CPU machine code.\n",
    "        \n",
    "#                3GL are high-level languages. eg: c, c++, java etc.\n",
    "                \n",
    "#                4Gl are more abstract from the underlying machine, and are based on defining what is to be done, rather than\n",
    "#                how eg: SQL, R, SPSS etc.\n",
    "               \n",
    "# Executable   : It is an executable file format and it contains a program and has the ability to run as a program in computer. \n",
    "    \n",
    "# Expressions  : Is a combination of operators and operands that is interpreted to produce some other value.\n",
    "    \n",
    "# Operators and Operands : operators are special symbols that designate that some sort of computation should be performed. \n",
    "#                          The values that an operator acts on are called operands.\n",
    "    \n",
    "# Syntax Errors : Syntax errors are mistakes in the use of the Python language.\n",
    "    \n",
    "# Logical Errors : They occur when the program runs without crashing, but produces an incorrect result"
   ]
  },
  {
   "cell_type": "code",
   "execution_count": null,
   "id": "ade7f508",
   "metadata": {},
   "outputs": [],
   "source": []
  }
 ],
 "metadata": {
  "kernelspec": {
   "display_name": "Python 3 (ipykernel)",
   "language": "python",
   "name": "python3"
  },
  "language_info": {
   "codemirror_mode": {
    "name": "ipython",
    "version": 3
   },
   "file_extension": ".py",
   "mimetype": "text/x-python",
   "name": "python",
   "nbconvert_exporter": "python",
   "pygments_lexer": "ipython3",
   "version": "3.9.7"
  }
 },
 "nbformat": 4,
 "nbformat_minor": 5
}
