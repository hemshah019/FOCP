{
 "cells": [
  {
   "cell_type": "code",
   "execution_count": 1,
   "id": "f5e12399",
   "metadata": {},
   "outputs": [],
   "source": [
    "#Task 1"
   ]
  },
  {
   "cell_type": "code",
   "execution_count": 2,
   "id": "e45765df",
   "metadata": {},
   "outputs": [
    {
     "data": {
      "text/plain": [
       "False"
      ]
     },
     "execution_count": 2,
     "metadata": {},
     "output_type": "execute_result"
    }
   ],
   "source": [
    "age = 19\n",
    "age < 18\n"
   ]
  },
  {
   "cell_type": "code",
   "execution_count": 3,
   "id": "03cebefc",
   "metadata": {},
   "outputs": [
    {
     "data": {
      "text/plain": [
       "True"
      ]
     },
     "execution_count": 3,
     "metadata": {},
     "output_type": "execute_result"
    }
   ],
   "source": [
    "age < 21"
   ]
  },
  {
   "cell_type": "code",
   "execution_count": 4,
   "id": "3eef0eb6",
   "metadata": {},
   "outputs": [
    {
     "data": {
      "text/plain": [
       "True"
      ]
     },
     "execution_count": 4,
     "metadata": {},
     "output_type": "execute_result"
    }
   ],
   "source": [
    "age < 31"
   ]
  },
  {
   "cell_type": "code",
   "execution_count": 5,
   "id": "6f267ccc",
   "metadata": {},
   "outputs": [],
   "source": [
    "#Task 2"
   ]
  },
  {
   "cell_type": "code",
   "execution_count": 6,
   "id": "2a3bf30f",
   "metadata": {},
   "outputs": [
    {
     "data": {
      "text/plain": [
       "True"
      ]
     },
     "execution_count": 6,
     "metadata": {},
     "output_type": "execute_result"
    }
   ],
   "source": [
    "\"a\" < \"b\""
   ]
  },
  {
   "cell_type": "code",
   "execution_count": 7,
   "id": "483718cc",
   "metadata": {},
   "outputs": [
    {
     "data": {
      "text/plain": [
       "False"
      ]
     },
     "execution_count": 7,
     "metadata": {},
     "output_type": "execute_result"
    }
   ],
   "source": [
    "\"b\" < \"a\""
   ]
  },
  {
   "cell_type": "code",
   "execution_count": 8,
   "id": "98291ced",
   "metadata": {},
   "outputs": [
    {
     "data": {
      "text/plain": [
       "True"
      ]
     },
     "execution_count": 8,
     "metadata": {},
     "output_type": "execute_result"
    }
   ],
   "source": [
    "\"John\" < \"Terry\""
   ]
  },
  {
   "cell_type": "code",
   "execution_count": 9,
   "id": "8b6454da",
   "metadata": {},
   "outputs": [
    {
     "data": {
      "text/plain": [
       "False"
      ]
     },
     "execution_count": 9,
     "metadata": {},
     "output_type": "execute_result"
    }
   ],
   "source": [
    "\"john\" < \"Terry\""
   ]
  },
  {
   "cell_type": "code",
   "execution_count": 10,
   "id": "d0ad2506",
   "metadata": {},
   "outputs": [],
   "source": [
    "#Task 3"
   ]
  },
  {
   "cell_type": "code",
   "execution_count": 11,
   "id": "5f77db90",
   "metadata": {},
   "outputs": [
    {
     "data": {
      "text/plain": [
       "True"
      ]
     },
     "execution_count": 11,
     "metadata": {},
     "output_type": "execute_result"
    }
   ],
   "source": [
    "5 < 10.2"
   ]
  },
  {
   "cell_type": "code",
   "execution_count": 12,
   "id": "61c0eeb2",
   "metadata": {},
   "outputs": [
    {
     "ename": "TypeError",
     "evalue": "'<' not supported between instances of 'int' and 'str'",
     "output_type": "error",
     "traceback": [
      "\u001b[1;31m---------------------------------------------------------------------------\u001b[0m",
      "\u001b[1;31mTypeError\u001b[0m                                 Traceback (most recent call last)",
      "\u001b[1;32m~\\AppData\\Local\\Temp/ipykernel_8092/56344552.py\u001b[0m in \u001b[0;36m<module>\u001b[1;34m\u001b[0m\n\u001b[1;32m----> 1\u001b[1;33m \u001b[1;36m5\u001b[0m \u001b[1;33m<\u001b[0m \u001b[1;34m\"Monty\"\u001b[0m\u001b[1;33m\u001b[0m\u001b[1;33m\u001b[0m\u001b[0m\n\u001b[0m",
      "\u001b[1;31mTypeError\u001b[0m: '<' not supported between instances of 'int' and 'str'"
     ]
    }
   ],
   "source": [
    "5 < \"Monty\""
   ]
  },
  {
   "cell_type": "code",
   "execution_count": 13,
   "id": "46700c33",
   "metadata": {},
   "outputs": [
    {
     "ename": "TypeError",
     "evalue": "'<' not supported between instances of 'int' and 'str'",
     "output_type": "error",
     "traceback": [
      "\u001b[1;31m---------------------------------------------------------------------------\u001b[0m",
      "\u001b[1;31mTypeError\u001b[0m                                 Traceback (most recent call last)",
      "\u001b[1;32m~\\AppData\\Local\\Temp/ipykernel_8092/738511462.py\u001b[0m in \u001b[0;36m<module>\u001b[1;34m\u001b[0m\n\u001b[1;32m----> 1\u001b[1;33m \u001b[1;36m5\u001b[0m \u001b[1;33m<\u001b[0m \u001b[1;34m\"5\"\u001b[0m\u001b[1;33m\u001b[0m\u001b[1;33m\u001b[0m\u001b[0m\n\u001b[0m",
      "\u001b[1;31mTypeError\u001b[0m: '<' not supported between instances of 'int' and 'str'"
     ]
    }
   ],
   "source": [
    "5 < \"5\""
   ]
  },
  {
   "cell_type": "code",
   "execution_count": 15,
   "id": "db65d62d",
   "metadata": {},
   "outputs": [],
   "source": [
    "#Task 4"
   ]
  },
  {
   "cell_type": "code",
   "execution_count": 19,
   "id": "259cbe98",
   "metadata": {},
   "outputs": [
    {
     "data": {
      "text/plain": [
       "False"
      ]
     },
     "execution_count": 19,
     "metadata": {},
     "output_type": "execute_result"
    }
   ],
   "source": [
    "age = 30\n",
    "age >=18 and age <=65\n",
    "age <18 or age >65\n",
    "not age > 18"
   ]
  },
  {
   "cell_type": "code",
   "execution_count": 20,
   "id": "ee067ca6",
   "metadata": {},
   "outputs": [
    {
     "data": {
      "text/plain": [
       "False"
      ]
     },
     "execution_count": 20,
     "metadata": {},
     "output_type": "execute_result"
    }
   ],
   "source": [
    "age = 30\n",
    "\n",
    "(age >=18 and age <=65) and (not age==30)"
   ]
  },
  {
   "cell_type": "code",
   "execution_count": 24,
   "id": "952128ee",
   "metadata": {},
   "outputs": [],
   "source": [
    "#Task 5"
   ]
  },
  {
   "cell_type": "code",
   "execution_count": 21,
   "id": "d47a0f61",
   "metadata": {},
   "outputs": [
    {
     "data": {
      "text/plain": [
       "False"
      ]
     },
     "execution_count": 21,
     "metadata": {},
     "output_type": "execute_result"
    }
   ],
   "source": [
    "weight = 55\n",
    "height = 164\n",
    "\n",
    "100 < weight and weight < 200\n",
    "\n",
    "height > 131 and height < 160"
   ]
  },
  {
   "cell_type": "code",
   "execution_count": 25,
   "id": "47ea2b85",
   "metadata": {},
   "outputs": [],
   "source": [
    "#Task 6"
   ]
  },
  {
   "cell_type": "code",
   "execution_count": 23,
   "id": "dc594f19",
   "metadata": {},
   "outputs": [
    {
     "name": "stdout",
     "output_type": "stream",
     "text": [
      "True\n",
      "False\n"
     ]
    }
   ],
   "source": [
    "message = \"Hello there, my name is John\"\n",
    "a = \"nam\" in message\n",
    "b = \"cop\" in message\n",
    "print(a)\n",
    "print(b)"
   ]
  },
  {
   "cell_type": "code",
   "execution_count": 26,
   "id": "dbf23336",
   "metadata": {},
   "outputs": [],
   "source": [
    "#Task 7"
   ]
  },
  {
   "cell_type": "code",
   "execution_count": 27,
   "id": "d092669b",
   "metadata": {},
   "outputs": [
    {
     "name": "stdout",
     "output_type": "stream",
     "text": [
      "Enter your ager between 18 to 30 :12\n",
      "you are still young!\n"
     ]
    }
   ],
   "source": [
    "age=int(input(\"Enter your ager between 18 to 30 :\"))\n",
    "if age < 18:\n",
    "    print(\"you are still young!\")\n",
    "else:\n",
    "    print(\"you are adult.\")"
   ]
  },
  {
   "cell_type": "code",
   "execution_count": 28,
   "id": "e9cce162",
   "metadata": {},
   "outputs": [],
   "source": [
    "#Task 8"
   ]
  },
  {
   "cell_type": "code",
   "execution_count": 30,
   "id": "6d9eebe2",
   "metadata": {},
   "outputs": [
    {
     "name": "stdout",
     "output_type": "stream",
     "text": [
      "Enter your age :35\n",
      "you are in middle aged.\n"
     ]
    }
   ],
   "source": [
    "age=int(input(\"Enter your age :\"))\n",
    "if age < 18:\n",
    "    print(\"you are still young!\")\n",
    "elif age > 30 and age < 40:\n",
    "    print(\"you are in middle aged.\")\n",
    "else:\n",
    "    print(\"you are adult.\")"
   ]
  },
  {
   "cell_type": "code",
   "execution_count": 31,
   "id": "ce549404",
   "metadata": {},
   "outputs": [],
   "source": [
    "#Task 9"
   ]
  },
  {
   "cell_type": "code",
   "execution_count": 32,
   "id": "9f530b71",
   "metadata": {},
   "outputs": [
    {
     "name": "stdout",
     "output_type": "stream",
     "text": [
      "Enter your Total: 45\n",
      "Total is non-zero\n"
     ]
    }
   ],
   "source": [
    "total = int(input(\"Enter your Total: \"))\n",
    "if total != 0:\n",
    "    print(\"Total is non-zero\")\n",
    "else:\n",
    "    print(\"Total is zero\")"
   ]
  },
  {
   "cell_type": "code",
   "execution_count": 33,
   "id": "935a1243",
   "metadata": {},
   "outputs": [],
   "source": [
    "#Task 10"
   ]
  },
  {
   "cell_type": "code",
   "execution_count": 34,
   "id": "774ccb95",
   "metadata": {},
   "outputs": [
    {
     "name": "stdout",
     "output_type": "stream",
     "text": [
      "enter your age:19\n",
      "you are an adult\n"
     ]
    }
   ],
   "source": [
    "age = int(input(\"enter your age:\"))\n",
    "print(\"you are an adult\" if age >=18 else \"you are not an adult, yet!\")"
   ]
  },
  {
   "cell_type": "code",
   "execution_count": 35,
   "id": "5500c291",
   "metadata": {},
   "outputs": [],
   "source": [
    "#Task 11"
   ]
  },
  {
   "cell_type": "code",
   "execution_count": 36,
   "id": "809969dc",
   "metadata": {},
   "outputs": [
    {
     "name": "stdout",
     "output_type": "stream",
     "text": [
      "Hem\n",
      "Bikram\n",
      "Shah\n",
      "Hello\n"
     ]
    }
   ],
   "source": [
    "for i in [\"Hem\",\"Bikram\",\"Shah\",\"Hello\"]:\n",
    "    print(i)"
   ]
  },
  {
   "cell_type": "code",
   "execution_count": 37,
   "id": "ced70953",
   "metadata": {},
   "outputs": [],
   "source": [
    "#Task 12"
   ]
  },
  {
   "cell_type": "code",
   "execution_count": 47,
   "id": "e565a7b0",
   "metadata": {},
   "outputs": [
    {
     "name": "stdout",
     "output_type": "stream",
     "text": [
      "2 to the power of 2 4\n",
      "4 to the power of 4 16\n",
      "6 to the power of 6 36\n",
      "8 to the power of 8 64\n",
      "10 to the power of 10 100\n"
     ]
    }
   ],
   "source": [
    "for i in range(2,11,2):\n",
    "    print(i,\"to the power of\",i,i*i)"
   ]
  },
  {
   "cell_type": "code",
   "execution_count": 48,
   "id": "b8f2687b",
   "metadata": {},
   "outputs": [],
   "source": [
    "#Task 13"
   ]
  },
  {
   "cell_type": "code",
   "execution_count": 53,
   "id": "4e067cd9",
   "metadata": {},
   "outputs": [
    {
     "ename": "TypeError",
     "evalue": "int() argument must be a string, a bytes-like object or a number, not 'list'",
     "output_type": "error",
     "traceback": [
      "\u001b[1;31m---------------------------------------------------------------------------\u001b[0m",
      "\u001b[1;31mTypeError\u001b[0m                                 Traceback (most recent call last)",
      "\u001b[1;32m~\\AppData\\Local\\Temp/ipykernel_8092/2869215634.py\u001b[0m in \u001b[0;36m<module>\u001b[1;34m\u001b[0m\n\u001b[0;32m      1\u001b[0m \u001b[0mnumbers\u001b[0m \u001b[1;33m=\u001b[0m \u001b[1;33m[\u001b[0m\u001b[1;36m10\u001b[0m\u001b[1;33m,\u001b[0m \u001b[1;36m20\u001b[0m \u001b[1;33m,\u001b[0m \u001b[1;36m30\u001b[0m\u001b[1;33m,\u001b[0m \u001b[1;36m90\u001b[0m\u001b[1;33m,\u001b[0m \u001b[1;36m200\u001b[0m\u001b[1;33m,\u001b[0m \u001b[1;36m30\u001b[0m\u001b[1;33m,\u001b[0m \u001b[1;36m22\u001b[0m\u001b[1;33m,\u001b[0m \u001b[1;36m11\u001b[0m\u001b[1;33m]\u001b[0m\u001b[1;33m\u001b[0m\u001b[1;33m\u001b[0m\u001b[0m\n\u001b[1;32m----> 2\u001b[1;33m \u001b[0mnumber\u001b[0m \u001b[1;33m=\u001b[0m \u001b[0mint\u001b[0m\u001b[1;33m(\u001b[0m\u001b[0mnumbers\u001b[0m\u001b[1;33m)\u001b[0m\u001b[1;33m\u001b[0m\u001b[1;33m\u001b[0m\u001b[0m\n\u001b[0m\u001b[0;32m      3\u001b[0m \u001b[1;32mfor\u001b[0m \u001b[0mi\u001b[0m \u001b[1;32min\u001b[0m \u001b[0mnumber\u001b[0m\u001b[1;33m:\u001b[0m\u001b[1;33m\u001b[0m\u001b[1;33m\u001b[0m\u001b[0m\n\u001b[0;32m      4\u001b[0m     \u001b[1;32mif\u001b[0m \u001b[0mnumber\u001b[0m \u001b[1;33m>=\u001b[0m \u001b[1;36m100\u001b[0m\u001b[1;33m:\u001b[0m\u001b[1;33m\u001b[0m\u001b[1;33m\u001b[0m\u001b[0m\n\u001b[0;32m      5\u001b[0m         \u001b[0mprint\u001b[0m\u001b[1;33m(\u001b[0m\u001b[0mnumber\u001b[0m\u001b[1;33m)\u001b[0m\u001b[1;33m\u001b[0m\u001b[1;33m\u001b[0m\u001b[0m\n",
      "\u001b[1;31mTypeError\u001b[0m: int() argument must be a string, a bytes-like object or a number, not 'list'"
     ]
    }
   ],
   "source": [
    "numbers = [10, 20 , 30, 90, 200, 30, 22, 11]\n",
    "number = int(numbers)\n",
    "for i in number:\n",
    "    if number >= 100:\n",
    "        print(number)\n",
    "        break\n",
    "    else:\n",
    "        print(number)\n",
    "        \n",
    "        "
   ]
  },
  {
   "cell_type": "code",
   "execution_count": null,
   "id": "f78a4d0d",
   "metadata": {},
   "outputs": [],
   "source": []
  }
 ],
 "metadata": {
  "kernelspec": {
   "display_name": "Python 3 (ipykernel)",
   "language": "python",
   "name": "python3"
  },
  "language_info": {
   "codemirror_mode": {
    "name": "ipython",
    "version": 3
   },
   "file_extension": ".py",
   "mimetype": "text/x-python",
   "name": "python",
   "nbconvert_exporter": "python",
   "pygments_lexer": "ipython3",
   "version": "3.9.7"
  }
 },
 "nbformat": 4,
 "nbformat_minor": 5
}
