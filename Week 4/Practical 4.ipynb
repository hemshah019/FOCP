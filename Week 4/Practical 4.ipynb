{
 "cells": [
  {
   "cell_type": "code",
   "execution_count": 1,
   "id": "8bf83dc6",
   "metadata": {},
   "outputs": [],
   "source": [
    "#Task 1"
   ]
  },
  {
   "cell_type": "code",
   "execution_count": 3,
   "id": "c7f3b78e",
   "metadata": {},
   "outputs": [
    {
     "data": {
      "text/plain": [
       "10.0"
      ]
     },
     "execution_count": 3,
     "metadata": {},
     "output_type": "execute_result"
    }
   ],
   "source": [
    "import math\n",
    "math.log2(1024)"
   ]
  },
  {
   "cell_type": "code",
   "execution_count": 4,
   "id": "696565f0",
   "metadata": {},
   "outputs": [],
   "source": [
    "#Task 2"
   ]
  },
  {
   "cell_type": "code",
   "execution_count": 5,
   "id": "467495d2",
   "metadata": {},
   "outputs": [
    {
     "name": "stdout",
     "output_type": "stream",
     "text": [
      "hello,\n",
      "Guys!!\n"
     ]
    }
   ],
   "source": [
    "def displayTwice(msg):\n",
    "    return msg\n",
    "print(\"hello,\")\n",
    "print(\"Guys!!\")"
   ]
  },
  {
   "cell_type": "code",
   "execution_count": 6,
   "id": "df083cc5",
   "metadata": {},
   "outputs": [],
   "source": [
    "#Task 3"
   ]
  },
  {
   "cell_type": "code",
   "execution_count": 8,
   "id": "074e2c2e",
   "metadata": {},
   "outputs": [
    {
     "name": "stdout",
     "output_type": "stream",
     "text": [
      "7\n",
      "5\n"
     ]
    }
   ],
   "source": [
    "def findMax(a,b):\n",
    "    \"\"\"Finds the maximum of two values.\"\"\"\n",
    "    if ( a > b ):\n",
    "        max = a\n",
    "    else:\n",
    "        max = b\n",
    "    return max\n",
    "print(findMax(6,7))\n",
    "print(findMax(5,0))"
   ]
  },
  {
   "cell_type": "code",
   "execution_count": 9,
   "id": "3380db94",
   "metadata": {},
   "outputs": [],
   "source": [
    "#Task 4"
   ]
  },
  {
   "cell_type": "code",
   "execution_count": 11,
   "id": "9df2096a",
   "metadata": {},
   "outputs": [
    {
     "name": "stdout",
     "output_type": "stream",
     "text": [
      "x is  1 \n",
      "y is  2 \n",
      "z is  3\n",
      "None\n",
      "x is  5 \n",
      "y is  6 \n",
      "z is  0\n",
      "None\n"
     ]
    }
   ],
   "source": [
    "def somefunc(x,y,z):\n",
    "    print(\"x is \",x, \"\\ny is \",y,\"\\nz is \",z)\n",
    "print(somefunc(1,2,3))\n",
    "print(somefunc(x=5,y=6,z=0))"
   ]
  },
  {
   "cell_type": "code",
   "execution_count": 12,
   "id": "8c8b6f85",
   "metadata": {},
   "outputs": [],
   "source": [
    "#Task 5"
   ]
  },
  {
   "cell_type": "code",
   "execution_count": 15,
   "id": "23853815",
   "metadata": {},
   "outputs": [
    {
     "name": "stdout",
     "output_type": "stream",
     "text": [
      "INFO File opened  .\n",
      "None\n",
      "ERROR File not opened  .\n",
      "None\n",
      "INFO File missing Insert Disk Press return\n",
      "None\n"
     ]
    }
   ],
   "source": [
    "def showMsg(title, body=\"\", prefix=\"INFO\", suffix=\".\"):\n",
    "    print(prefix,title,body,suffix)\n",
    "print(showMsg(\"File opened\"))\n",
    "print(showMsg(\"File not opened\", prefix=\"ERROR\" ))\n",
    "print(showMsg(\"File missing\", body=\"Insert Disk\", suffix=\"Press return\"))"
   ]
  },
  {
   "cell_type": "code",
   "execution_count": 16,
   "id": "d041502e",
   "metadata": {},
   "outputs": [],
   "source": [
    "#Task 6"
   ]
  },
  {
   "cell_type": "code",
   "execution_count": 20,
   "id": "73a56bea",
   "metadata": {},
   "outputs": [
    {
     "data": {
      "text/plain": [
       "0.5714285714285714"
      ]
     },
     "execution_count": 20,
     "metadata": {},
     "output_type": "execute_result"
    }
   ],
   "source": [
    "def calcAve(*numbers):\n",
    "    total = 0\n",
    "    for num in numbers:\n",
    "        total += num\n",
    "        return total/len(numbers)\n",
    "calcAve(4,5,6,6,7,1,3)"
   ]
  },
  {
   "cell_type": "code",
   "execution_count": 21,
   "id": "03a29496",
   "metadata": {},
   "outputs": [],
   "source": [
    "#Task 7"
   ]
  },
  {
   "cell_type": "code",
   "execution_count": 22,
   "id": "03b18ae8",
   "metadata": {},
   "outputs": [
    {
     "data": {
      "text/plain": [
       "function"
      ]
     },
     "execution_count": 22,
     "metadata": {},
     "output_type": "execute_result"
    }
   ],
   "source": [
    "import math\n",
    "hypot = lambda a,b : math.sqrt(a * a + b * b)\n",
    "hypot(3,6)\n",
    "type(hypot)"
   ]
  },
  {
   "cell_type": "code",
   "execution_count": 23,
   "id": "a407fcd8",
   "metadata": {},
   "outputs": [],
   "source": [
    "#Task 8"
   ]
  },
  {
   "cell_type": "code",
   "execution_count": 24,
   "id": "c7842e15",
   "metadata": {},
   "outputs": [
    {
     "data": {
      "text/plain": [
       "3660"
      ]
     },
     "execution_count": 24,
     "metadata": {},
     "output_type": "execute_result"
    }
   ],
   "source": [
    "to_seconds = lambda hours,minutes :hours*60*60 + minutes*60\n",
    "to_seconds(1,1)"
   ]
  },
  {
   "cell_type": "code",
   "execution_count": null,
   "id": "aa04d484",
   "metadata": {},
   "outputs": [],
   "source": []
  }
 ],
 "metadata": {
  "kernelspec": {
   "display_name": "Python 3 (ipykernel)",
   "language": "python",
   "name": "python3"
  },
  "language_info": {
   "codemirror_mode": {
    "name": "ipython",
    "version": 3
   },
   "file_extension": ".py",
   "mimetype": "text/x-python",
   "name": "python",
   "nbconvert_exporter": "python",
   "pygments_lexer": "ipython3",
   "version": "3.9.7"
  }
 },
 "nbformat": 4,
 "nbformat_minor": 5
}
